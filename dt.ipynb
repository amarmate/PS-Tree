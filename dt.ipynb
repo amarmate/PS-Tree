{
 "cells": [
  {
   "cell_type": "code",
   "execution_count": 6,
   "id": "3e927069",
   "metadata": {},
   "outputs": [],
   "source": [
    "from sklearn.tree import DecisionTreeClassifier\n",
    "from sklearn.datasets import load_iris\n",
    "from sklearn.model_selection import train_test_split\n",
    "from sklearn.metrics import accuracy_score\n",
    "from sklearn.tree import export_text"
   ]
  },
  {
   "cell_type": "code",
   "execution_count": 4,
   "id": "9bd4ce6f",
   "metadata": {},
   "outputs": [
    {
     "name": "stdout",
     "output_type": "stream",
     "text": [
      "Accuracy of the Decision Tree Classifier: 1.00\n"
     ]
    }
   ],
   "source": [
    "iris = load_iris()\n",
    "\n",
    "X = iris.data\n",
    "y = iris.target\n",
    "X_train, X_test, y_train, y_test = train_test_split(X, y, test_size=0.2, random_state=42)\n",
    "clf = DecisionTreeClassifier(random_state=42)\n",
    "clf.fit(X_train, y_train)\n",
    "y_pred = clf.predict(X_test)\n",
    "accuracy = accuracy_score(y_test, y_pred)\n",
    "print(f\"Accuracy of the Decision Tree Classifier: {accuracy:.2f}\")"
   ]
  },
  {
   "cell_type": "code",
   "execution_count": 7,
   "id": "dedc6256",
   "metadata": {},
   "outputs": [
    {
     "name": "stdout",
     "output_type": "stream",
     "text": [
      "Tree rules: \n",
      "|--- petal length (cm) <= 2.45\n",
      "|   |--- class: 0\n",
      "|--- petal length (cm) >  2.45\n",
      "|   |--- petal length (cm) <= 4.75\n",
      "|   |   |--- petal width (cm) <= 1.65\n",
      "|   |   |   |--- class: 1\n",
      "|   |   |--- petal width (cm) >  1.65\n",
      "|   |   |   |--- class: 2\n",
      "|   |--- petal length (cm) >  4.75\n",
      "|   |   |--- petal width (cm) <= 1.75\n",
      "|   |   |   |--- petal length (cm) <= 4.95\n",
      "|   |   |   |   |--- class: 1\n",
      "|   |   |   |--- petal length (cm) >  4.95\n",
      "|   |   |   |   |--- petal width (cm) <= 1.55\n",
      "|   |   |   |   |   |--- class: 2\n",
      "|   |   |   |   |--- petal width (cm) >  1.55\n",
      "|   |   |   |   |   |--- petal length (cm) <= 5.45\n",
      "|   |   |   |   |   |   |--- class: 1\n",
      "|   |   |   |   |   |--- petal length (cm) >  5.45\n",
      "|   |   |   |   |   |   |--- class: 2\n",
      "|   |   |--- petal width (cm) >  1.75\n",
      "|   |   |   |--- petal length (cm) <= 4.85\n",
      "|   |   |   |   |--- sepal width (cm) <= 3.10\n",
      "|   |   |   |   |   |--- class: 2\n",
      "|   |   |   |   |--- sepal width (cm) >  3.10\n",
      "|   |   |   |   |   |--- class: 1\n",
      "|   |   |   |--- petal length (cm) >  4.85\n",
      "|   |   |   |   |--- class: 2\n",
      "\n"
     ]
    }
   ],
   "source": [
    "print('Tree rules: ')\n",
    "print(export_text(clf, feature_names=iris.feature_names))"
   ]
  },
  {
   "cell_type": "code",
   "execution_count": 21,
   "id": "ab7a1da8",
   "metadata": {},
   "outputs": [
    {
     "name": "stdout",
     "output_type": "stream",
     "text": [
      "('if', ('>', 'petal length (cm)', 2.449999988079071), '[[40.0, 0.0, 0.0]]', ('if', ('>', 'petal length (cm)', 4.75), ('if', ('>', 'petal width (cm)', 1.6500000357627869), '[[0.0, 36.0, 0.0]]', '[[0.0, 0.0, 1.0]]'), ('if', ('>', 'petal width (cm)', 1.75), ('if', ('>', 'petal length (cm)', 4.950000047683716), '[[0.0, 2.0, 0.0]]', ('if', ('>', 'petal width (cm)', 1.550000011920929), '[[0.0, 0.0, 3.0]]', ('if', ('>', 'petal length (cm)', 5.450000047683716), '[[0.0, 2.0, 0.0]]', '[[0.0, 0.0, 1.0]]'))), ('if', ('>', 'petal length (cm)', 4.8500001430511475), ('if', ('>', 'sepal length (cm)', 5.950000047683716), '[[0.0, 1.0, 0.0]]', '[[0.0, 0.0, 2.0]]'), '[[0.0, 0.0, 32.0]]'))))\n"
     ]
    }
   ],
   "source": [
    "from sklearn.tree import DecisionTreeClassifier\n",
    "\n",
    "def tree_to_lisp(tree, feature_names=None, node=0):\n",
    "    \"\"\"\n",
    "    Wandelt einen sklearn-Baum in eine Lisp-S-Expression um.\n",
    "    \"\"\"\n",
    "    left = tree.children_left[node]\n",
    "    right = tree.children_right[node]\n",
    "    if feature_names is None:\n",
    "        feature = f\"X{tree.feature[node]}\"\n",
    "    else:\n",
    "        feature = feature_names[tree.feature[node]]\n",
    "    threshold = tree.threshold[node]\n",
    "    \n",
    "    # Blattknoten?\n",
    "    if left == -1 and right == -1:\n",
    "        value = tree.value[node].tolist()\n",
    "        return str(value)\n",
    "    \n",
    "    # Rekursiver Fall: (if (> feature threshold) then else)\n",
    "    then_branch = tree_to_lisp(tree, feature_names, left)\n",
    "    else_branch = tree_to_lisp(tree, feature_names, right)\n",
    "    return ('if', ('>', feature, threshold), then_branch, else_branch)\n",
    "\n",
    "# Beispielnutzung:\n",
    "clf = DecisionTreeClassifier().fit(X_train, y_train)\n",
    "lisp_repr = tree_to_lisp(clf.tree_, \n",
    "                         feature_names=iris.feature_names\n",
    "                         )\n",
    "print(lisp_repr)\n"
   ]
  },
  {
   "cell_type": "code",
   "execution_count": 27,
   "id": "bdabcbaf",
   "metadata": {},
   "outputs": [],
   "source": [
    "clf = DecisionTreeClassifier().fit(X_train, y_train)\n",
    "feature_names = [f\"X{i}\" for i in range(X_train.shape[1])]"
   ]
  },
  {
   "cell_type": "code",
   "execution_count": 44,
   "id": "37ad1edb",
   "metadata": {},
   "outputs": [
    {
     "name": "stdout",
     "output_type": "stream",
     "text": [
      "(('X3', 0.800000011920929), '0', (('X2', 4.75), (('X3', 1.6500000357627869), '1', '2'), (('X3', 1.75), (('X2', 4.950000047683716), '1', (('X3', 1.550000011920929), '2', (('X0', 6.949999809265137), '1', '2'))), (('X2', 4.8500001430511475), (('X1', 3.100000023841858), '2', '1'), '2'))))\n"
     ]
    }
   ],
   "source": [
    "import numpy as np\n",
    "from sklearn.tree import DecisionTreeClassifier\n",
    "\n",
    "def tree_to_lisp(clf, feature_names=None, node=0):\n",
    "    \"\"\"\n",
    "    Wandelt einen sklearn-Baum in eine Lisp-S-Expression um,\n",
    "    wobei jedes Blatt die vorhergesagte Klasse zurückgibt.\n",
    "    \"\"\"\n",
    "    tree = clf.tree_\n",
    "    left, right = tree.children_left[node], tree.children_right[node]\n",
    "    \n",
    "    if left == -1 and right == -1:\n",
    "        vals = tree.value[node][0]\n",
    "        idx = int(np.argmax(vals))\n",
    "        klass = clf.classes_[idx]\n",
    "        return repr(klass)\n",
    "    \n",
    "    if feature_names is None:\n",
    "        feat = f\"X{tree.feature[node]}\"\n",
    "    else:\n",
    "        feat = feature_names[tree.feature[node]]\n",
    "    thresh = tree.threshold[node]\n",
    "    \n",
    "    then_branch = tree_to_lisp(clf, feature_names, left)\n",
    "    else_branch = tree_to_lisp(clf, feature_names, right)\n",
    "    return ((feat, thresh), then_branch, else_branch)\n",
    "\n",
    "# Beispielaufruf:\n",
    "print(tree_to_lisp(clf, feature_names))"
   ]
  }
 ],
 "metadata": {
  "kernelspec": {
   "display_name": "Python 3",
   "language": "python",
   "name": "python3"
  },
  "language_info": {
   "codemirror_mode": {
    "name": "ipython",
    "version": 3
   },
   "file_extension": ".py",
   "mimetype": "text/x-python",
   "name": "python",
   "nbconvert_exporter": "python",
   "pygments_lexer": "ipython3",
   "version": "3.10.11"
  }
 },
 "nbformat": 4,
 "nbformat_minor": 5
}
