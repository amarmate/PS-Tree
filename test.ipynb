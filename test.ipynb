{
 "cells": [
  {
   "cell_type": "code",
   "execution_count": 2,
   "id": "4c2b9ef8",
   "metadata": {},
   "outputs": [],
   "source": [
    "from sklearn.model_selection import train_test_split\n",
    "\n",
    "from pstree.cluster_gp_sklearn import PSTreeRegressor, GPRegressor\n",
    "from pstree.datasets.data_loader import load_concrete_strength\n",
    "from pstree.datasets.synthetic_datasets import load_synthetic1\n",
    "from sklearn.tree import DecisionTreeRegressor\n",
    "from sklearn.metrics import r2_score, root_mean_squared_error as rmse\n",
    "\n",
    "from matplotlib import pyplot as plt"
   ]
  },
  {
   "cell_type": "code",
   "execution_count": 3,
   "id": "4e4218ec",
   "metadata": {},
   "outputs": [],
   "source": [
    "X,y = load_concrete_strength()"
   ]
  },
  {
   "cell_type": "code",
   "execution_count": null,
   "metadata": {},
   "outputs": [],
   "source": [
    "X,y = load_diabetes()\n",
    "# X, y, _, _ = load_synthetic1()\n",
    "\n",
    "\n",
    "X_train, X_test, y_train, y_test = train_test_split(X, y, test_size=0.2, random_state=42)\n",
    "\n",
    "r = PSTreeRegressor(regr_class=GPRegressor, \n",
    "                    tree_class=DecisionTreeRegressor,\n",
    "                    height_limit=6, \n",
    "                    n_pop=25,  # 25\n",
    "                    n_gen=50,  # 50 \n",
    "                    basic_primitive=True,\n",
    "                    size_objective=True,\n",
    "                    max_leaf_nodes=4,\n",
    "                    constant_range=2,  # 2 \n",
    "                    random_seed=0, \n",
    "                    random_state=0,\n",
    "                    normalize=True,\n",
    "                    verbose=True,\n",
    ")\n",
    "\n",
    "r.fit(X_train, y_train)\n",
    "print(r2_score(y_test, r.predict(X_test)))\n",
    "print(rmse(y_test, r.predict(X_test)))\n",
    "\n",
    "plt.figure(figsize=(10, 6))\n",
    "plt.scatter(y_test, r.predict(X_test), alpha=0.5)\n",
    "plt.plot([y_test.min(), y_test.max()], [y_test.min(), y_test.max()], 'k--', lw=2)\n",
    "plt.xlabel('True Values')\n",
    "plt.ylabel('Predictions')\n",
    "plt.title('PSTreeRegressor Predictions vs True Values')\n",
    "plt.show()"
   ]
  },
  {
   "cell_type": "code",
   "execution_count": null,
   "id": "fbf477af",
   "metadata": {},
   "outputs": [
    {
     "data": {
      "text/plain": [
       "array([[ 1.49836523,  1.06136988,  0.21990201, ...,  0.71103773,\n",
       "         0.54756035, -0.06144896],\n",
       "       [-0.22885822,  1.06136988, -0.41936607, ...,  1.4842858 ,\n",
       "        -0.01977619,  0.36723647],\n",
       "       [ 0.08518241, -0.94217861,  1.01898711, ..., -0.06221033,\n",
       "         0.33126035, -0.31866022],\n",
       "       ...,\n",
       "       [ 0.63475351, -0.94217861, -0.46502808, ..., -0.83545839,\n",
       "        -0.25377593, -0.06144896],\n",
       "       [-0.30736838, -0.94217861, -0.53352109, ..., -0.06221033,\n",
       "        -0.83071152, -0.83308273],\n",
       "       [-2.03459183, -0.94217861,  0.56236706, ..., -0.83545839,\n",
       "        -0.13319219, -0.06144896]], shape=(353, 10))"
      ]
     },
     "execution_count": 10,
     "metadata": {},
     "output_type": "execute_result"
    }
   ],
   "source": [
    "r.regr."
   ]
  }
 ],
 "metadata": {
  "kernelspec": {
   "display_name": "venv",
   "language": "python",
   "name": "python3"
  },
  "language_info": {
   "codemirror_mode": {
    "name": "ipython",
    "version": 3
   },
   "file_extension": ".py",
   "mimetype": "text/x-python",
   "name": "python",
   "nbconvert_exporter": "python",
   "pygments_lexer": "ipython3",
   "version": "3.10.12"
  }
 },
 "nbformat": 4,
 "nbformat_minor": 5
}
